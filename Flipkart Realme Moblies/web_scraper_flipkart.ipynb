{
 "cells": [
  {
   "attachments": {},
   "cell_type": "markdown",
   "metadata": {},
   "source": [
    "Web Scraping on Flipkart Realme Mobiles Product"
   ]
  },
  {
   "attachments": {},
   "cell_type": "markdown",
   "metadata": {},
   "source": [
    "### Importing Required Libraries"
   ]
  },
  {
   "cell_type": "code",
   "execution_count": 2,
   "metadata": {},
   "outputs": [],
   "source": [
    "import requests                       \n",
    "from bs4 import BeautifulSoup          \n",
    "\n",
    "import pandas as pd                    \n",
    "import numpy as np                     "
   ]
  },
  {
   "attachments": {},
   "cell_type": "markdown",
   "metadata": {},
   "source": [
    "### Inspected our HTML for the data we need"
   ]
  },
  {
   "cell_type": "code",
   "execution_count": 3,
   "metadata": {},
   "outputs": [],
   "source": [
    "headers = {\"Accept-Language\": \"en-US, en;q=0.5\"}"
   ]
  },
  {
   "cell_type": "code",
   "execution_count": 4,
   "metadata": {},
   "outputs": [],
   "source": [
    "url = \"https://www.flipkart.com/search?sid=tyy%2C4io&otracker=CLP_Filters&p%5B%5D=facets.brand%255B%255D%3Drealme\""
   ]
  },
  {
   "cell_type": "code",
   "execution_count": 5,
   "metadata": {},
   "outputs": [],
   "source": [
    "results = requests.get(url, headers=headers) "
   ]
  },
  {
   "attachments": {},
   "cell_type": "markdown",
   "metadata": {},
   "source": [
    "### Wrote code to extract the data"
   ]
  },
  {
   "cell_type": "code",
   "execution_count": 6,
   "metadata": {},
   "outputs": [],
   "source": [
    "soup = BeautifulSoup(results.text, \"html.parser\")\n",
    "# print(soup.prettify())\n"
   ]
  },
  {
   "cell_type": "code",
   "execution_count": 7,
   "metadata": {},
   "outputs": [],
   "source": [
    "model_names = []\n",
    "prices = []\n",
    "rating = []\n",
    "total_rating = []\n",
    "total_reviews =[]"
   ]
  },
  {
   "cell_type": "code",
   "execution_count": 8,
   "metadata": {},
   "outputs": [],
   "source": [
    "product = soup.find_all('div', class_='_2kHMtA')"
   ]
  },
  {
   "attachments": {},
   "cell_type": "markdown",
   "metadata": {},
   "source": [
    "### Put our code in a loop to grab all the data from each Product"
   ]
  },
  {
   "cell_type": "code",
   "execution_count": 9,
   "metadata": {},
   "outputs": [],
   "source": [
    "\n",
    "for container in product:\n",
    "    \n",
    "    # Model Names\n",
    "    name = container.find('div',class_ ='_4rR01T').text  \n",
    "    model_names.append(name)\n",
    "    \n",
    "    # Product Price\n",
    "    price = container.find('div', class_='_30jeq3 _1_WHN1').text  \n",
    "    prices.append(price)\n",
    "    \n",
    "    # Product Rating \n",
    "    rates = float(container.find('div', class_='_3LWZlK').text) \n",
    "    rating.append(rates)\n",
    "    \n",
    "    # Total Rating & Reviews of Product  \n",
    "    # rating_and_review = container.find('span',class_ ='_2_R_DZ')\n",
    "    \n",
    "    # rating = rating_and_review[0].text # rating\n",
    "    # total_rating.append(rating)\n",
    "    \n",
    "    # reviews = rating_and_review[1].text  # reviews \n",
    "    # total_reviews.append(reviews)    \n",
    "    "
   ]
  },
  {
   "cell_type": "code",
   "execution_count": 10,
   "metadata": {},
   "outputs": [
    {
     "name": "stdout",
     "output_type": "stream",
     "text": [
      "['realme 9i (Prism Blue, 64 GB)', 'realme 9i (Prism Black, 64 GB)', 'realme 9i (Prism Blue, 128 GB)', 'realme 9i (Prism Black, 128 GB)', 'realme 9i (Prism Black, 128 GB)', 'realme 9i (Prism Blue, 128 GB)', 'realme 10 Pro+ 5G (Dark Matter, 128 GB)', 'realme 9 (Meteor Black, 128 GB)', 'realme 9 (Meteor Black, 128 GB)', 'realme 9 (Stargaze White, 128 GB)', 'realme 9 (Sunburst Gold, 128 GB)', 'realme 9 (Stargaze White, 128 GB)', 'realme C30 (Bamboo Green, 32 GB)', 'realme C30 (Denim Black, 32 GB)', 'realme C30 (Lake Blue, 32 GB)', 'realme C30 (Denim Black, 32 GB)', 'realme C30 (Bamboo Green, 32 GB)', 'realme C30 (Lake Blue, 32 GB)', 'realme 10 Pro+ 5G (Nebula Blue, 128 GB)', 'realme 10 Pro+ 5G (Hyperspace, 128 GB)', 'realme 10 Pro 5G (Hyperspace, 128 GB)', 'realme 10 Pro 5G (Nebula Blue, 128 GB)', 'realme 10 Pro 5G (Dark Matter, 128 GB)', 'Realme C30 - Locked with Airtel Prepaid (Bamboo Green, 32 GB)']\n",
      "['₹10,999', '₹10,999', '₹13,499', '₹13,499', '₹11,499', '₹11,499', '₹25,999', '₹13,999', '₹14,999', '₹14,999', '₹14,999', '₹16,999', '₹5,999', '₹5,999', '₹5,999', '₹6,999', '₹6,999', '₹6,999', '₹24,999', '₹24,999', '₹18,999', '₹19,999', '₹18,999', '₹5,499']\n",
      "[4.5, 4.5, 4.5, 4.5, 4.5, 4.5, 4.5, 4.4, 4.4, 4.4, 4.4, 4.4, 4.3, 4.3, 4.3, 4.1, 4.1, 4.1, 4.5, 4.5, 4.4, 4.4, 4.4, 4.3]\n"
     ]
    }
   ],
   "source": [
    "print(model_names)\n",
    "print(prices)\n",
    "print(rating)\n"
   ]
  },
  {
   "attachments": {},
   "cell_type": "markdown",
   "metadata": {},
   "source": [
    "### Built a DataFrame with pandas"
   ]
  },
  {
   "cell_type": "code",
   "execution_count": 11,
   "metadata": {},
   "outputs": [],
   "source": [
    "mobile = pd.DataFrame({'Model_Name': model_names,'Prices':prices,'Rating':rating})"
   ]
  },
  {
   "cell_type": "code",
   "execution_count": 12,
   "metadata": {},
   "outputs": [
    {
     "data": {
      "text/html": [
       "<div>\n",
       "<style scoped>\n",
       "    .dataframe tbody tr th:only-of-type {\n",
       "        vertical-align: middle;\n",
       "    }\n",
       "\n",
       "    .dataframe tbody tr th {\n",
       "        vertical-align: top;\n",
       "    }\n",
       "\n",
       "    .dataframe thead th {\n",
       "        text-align: right;\n",
       "    }\n",
       "</style>\n",
       "<table border=\"1\" class=\"dataframe\">\n",
       "  <thead>\n",
       "    <tr style=\"text-align: right;\">\n",
       "      <th></th>\n",
       "      <th>Model_Name</th>\n",
       "      <th>Prices</th>\n",
       "      <th>Rating</th>\n",
       "    </tr>\n",
       "  </thead>\n",
       "  <tbody>\n",
       "    <tr>\n",
       "      <th>0</th>\n",
       "      <td>realme 9i (Prism Blue, 64 GB)</td>\n",
       "      <td>₹10,999</td>\n",
       "      <td>4.5</td>\n",
       "    </tr>\n",
       "    <tr>\n",
       "      <th>1</th>\n",
       "      <td>realme 9i (Prism Black, 64 GB)</td>\n",
       "      <td>₹10,999</td>\n",
       "      <td>4.5</td>\n",
       "    </tr>\n",
       "    <tr>\n",
       "      <th>2</th>\n",
       "      <td>realme 9i (Prism Blue, 128 GB)</td>\n",
       "      <td>₹13,499</td>\n",
       "      <td>4.5</td>\n",
       "    </tr>\n",
       "    <tr>\n",
       "      <th>3</th>\n",
       "      <td>realme 9i (Prism Black, 128 GB)</td>\n",
       "      <td>₹13,499</td>\n",
       "      <td>4.5</td>\n",
       "    </tr>\n",
       "    <tr>\n",
       "      <th>4</th>\n",
       "      <td>realme 9i (Prism Black, 128 GB)</td>\n",
       "      <td>₹11,499</td>\n",
       "      <td>4.5</td>\n",
       "    </tr>\n",
       "    <tr>\n",
       "      <th>5</th>\n",
       "      <td>realme 9i (Prism Blue, 128 GB)</td>\n",
       "      <td>₹11,499</td>\n",
       "      <td>4.5</td>\n",
       "    </tr>\n",
       "    <tr>\n",
       "      <th>6</th>\n",
       "      <td>realme 10 Pro+ 5G (Dark Matter, 128 GB)</td>\n",
       "      <td>₹25,999</td>\n",
       "      <td>4.5</td>\n",
       "    </tr>\n",
       "    <tr>\n",
       "      <th>7</th>\n",
       "      <td>realme 9 (Meteor Black, 128 GB)</td>\n",
       "      <td>₹13,999</td>\n",
       "      <td>4.4</td>\n",
       "    </tr>\n",
       "    <tr>\n",
       "      <th>8</th>\n",
       "      <td>realme 9 (Meteor Black, 128 GB)</td>\n",
       "      <td>₹14,999</td>\n",
       "      <td>4.4</td>\n",
       "    </tr>\n",
       "    <tr>\n",
       "      <th>9</th>\n",
       "      <td>realme 9 (Stargaze White, 128 GB)</td>\n",
       "      <td>₹14,999</td>\n",
       "      <td>4.4</td>\n",
       "    </tr>\n",
       "  </tbody>\n",
       "</table>\n",
       "</div>"
      ],
      "text/plain": [
       "                                Model_Name   Prices  Rating\n",
       "0            realme 9i (Prism Blue, 64 GB)  ₹10,999     4.5\n",
       "1           realme 9i (Prism Black, 64 GB)  ₹10,999     4.5\n",
       "2           realme 9i (Prism Blue, 128 GB)  ₹13,499     4.5\n",
       "3          realme 9i (Prism Black, 128 GB)  ₹13,499     4.5\n",
       "4          realme 9i (Prism Black, 128 GB)  ₹11,499     4.5\n",
       "5           realme 9i (Prism Blue, 128 GB)  ₹11,499     4.5\n",
       "6  realme 10 Pro+ 5G (Dark Matter, 128 GB)  ₹25,999     4.5\n",
       "7          realme 9 (Meteor Black, 128 GB)  ₹13,999     4.4\n",
       "8          realme 9 (Meteor Black, 128 GB)  ₹14,999     4.4\n",
       "9        realme 9 (Stargaze White, 128 GB)  ₹14,999     4.4"
      ]
     },
     "execution_count": 12,
     "metadata": {},
     "output_type": "execute_result"
    }
   ],
   "source": [
    "mobile.head(10)"
   ]
  },
  {
   "cell_type": "code",
   "execution_count": 13,
   "metadata": {},
   "outputs": [
    {
     "name": "stdout",
     "output_type": "stream",
     "text": [
      "<class 'pandas.core.frame.DataFrame'>\n",
      "RangeIndex: 24 entries, 0 to 23\n",
      "Data columns (total 3 columns):\n",
      " #   Column      Non-Null Count  Dtype  \n",
      "---  ------      --------------  -----  \n",
      " 0   Model_Name  24 non-null     object \n",
      " 1   Prices      24 non-null     object \n",
      " 2   Rating      24 non-null     float64\n",
      "dtypes: float64(1), object(2)\n",
      "memory usage: 704.0+ bytes\n"
     ]
    }
   ],
   "source": [
    "mobile.info()"
   ]
  },
  {
   "attachments": {},
   "cell_type": "markdown",
   "metadata": {},
   "source": [
    "### Handled type conversion to make our data consistent & Cleaned our data in pandas"
   ]
  },
  {
   "cell_type": "code",
   "execution_count": 14,
   "metadata": {},
   "outputs": [],
   "source": [
    "mobile['Prices'] = mobile['Prices'].str.replace('₹','')"
   ]
  },
  {
   "cell_type": "code",
   "execution_count": 15,
   "metadata": {},
   "outputs": [],
   "source": [
    "mobile['Prices'] = mobile['Prices'].str.replace(',','').astype(int)"
   ]
  },
  {
   "cell_type": "code",
   "execution_count": 16,
   "metadata": {},
   "outputs": [
    {
     "name": "stdout",
     "output_type": "stream",
     "text": [
      "<class 'pandas.core.frame.DataFrame'>\n",
      "RangeIndex: 24 entries, 0 to 23\n",
      "Data columns (total 3 columns):\n",
      " #   Column      Non-Null Count  Dtype  \n",
      "---  ------      --------------  -----  \n",
      " 0   Model_Name  24 non-null     object \n",
      " 1   Prices      24 non-null     int32  \n",
      " 2   Rating      24 non-null     float64\n",
      "dtypes: float64(1), int32(1), object(1)\n",
      "memory usage: 608.0+ bytes\n"
     ]
    }
   ],
   "source": [
    "mobile.info()"
   ]
  },
  {
   "attachments": {},
   "cell_type": "markdown",
   "metadata": {},
   "source": [
    "### Saved your scraped data to a CSV"
   ]
  },
  {
   "cell_type": "code",
   "execution_count": 17,
   "metadata": {},
   "outputs": [],
   "source": [
    "mobile.to_csv('Flipkart Realme Mobiles.csv')"
   ]
  }
 ],
 "metadata": {
  "kernelspec": {
   "display_name": "Python 3",
   "language": "python",
   "name": "python3"
  },
  "language_info": {
   "codemirror_mode": {
    "name": "ipython",
    "version": 3
   },
   "file_extension": ".py",
   "mimetype": "text/x-python",
   "name": "python",
   "nbconvert_exporter": "python",
   "pygments_lexer": "ipython3",
   "version": "3.10.7"
  },
  "orig_nbformat": 4,
  "vscode": {
   "interpreter": {
    "hash": "8b9615e5c14d97b4c7011abf58491716cd4b9f963d9458d89a63626448c37b22"
   }
  }
 },
 "nbformat": 4,
 "nbformat_minor": 2
}
