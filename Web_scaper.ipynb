{
 "cells": [
  {
   "attachments": {},
   "cell_type": "markdown",
   "metadata": {},
   "source": [
    "*Web Scraping on the IMDb Website*"
   ]
  },
  {
   "attachments": {},
   "cell_type": "markdown",
   "metadata": {},
   "source": [
    "### Importing Required Libraies"
   ]
  },
  {
   "cell_type": "code",
   "execution_count": 1,
   "metadata": {},
   "outputs": [],
   "source": [
    "import requests                        # helps us to send HTTP requests to get HTML files\n",
    "from requests import get\n",
    "\n",
    "from bs4 import BeautifulSoup          # web scraper library in python \n",
    "\n",
    "import pandas as pd                    # help us to ata manipulation and analysis of HTML files \n",
    "import numpy as np                     # help in use of  mathematical functions and tools for working with arrays "
   ]
  },
  {
   "attachments": {},
   "cell_type": "markdown",
   "metadata": {},
   "source": [
    "English-translated titles"
   ]
  },
  {
   "cell_type": "code",
   "execution_count": 2,
   "metadata": {},
   "outputs": [],
   "source": [
    "headers = {\"Accept-Language\": \"en-US, en;q=0.5\"}"
   ]
  },
  {
   "attachments": {},
   "cell_type": "markdown",
   "metadata": {},
   "source": [
    "Request contents of the URL"
   ]
  },
  {
   "cell_type": "code",
   "execution_count": 3,
   "metadata": {},
   "outputs": [],
   "source": [
    "url = \"https://www.imdb.com/search/title/?groups=top_1000&ref_=adv_prv\"\n",
    "\n",
    "results = requests.get(url, headers=headers) "
   ]
  },
  {
   "attachments": {},
   "cell_type": "markdown",
   "metadata": {},
   "source": [
    "Using BeautifulSoup"
   ]
  },
  {
   "cell_type": "code",
   "execution_count": 11,
   "metadata": {},
   "outputs": [],
   "source": [
    "soup = BeautifulSoup(results.text, \"html.parser\")\n",
    "\n",
    "# print(soup.prettify())"
   ]
  },
  {
   "attachments": {},
   "cell_type": "markdown",
   "metadata": {},
   "source": [
    "\"soup\" variable is used to assign the method BeatifulSoup, which specifies a format for the HTML parser to use instead of treating the page as a single string.\n",
    "\n",
    "We can print the data we've grabbed in a more readable tree format by printing soup.prettify()."
   ]
  },
  {
   "attachments": {},
   "cell_type": "markdown",
   "metadata": {},
   "source": [
    "Initialize empty lists where you'll store your data"
   ]
  },
  {
   "cell_type": "code",
   "execution_count": 6,
   "metadata": {},
   "outputs": [],
   "source": [
    "titles = []\n",
    "years = []\n",
    "time = []\n",
    "imdb_ratings = []\n",
    "metascores = []\n",
    "votes = []\n",
    "us_gross = []"
   ]
  },
  {
   "cell_type": "code",
   "execution_count": 7,
   "metadata": {},
   "outputs": [],
   "source": [
    "movie_div = soup.find_all('div', class_='lister-item mode-advanced') # extracts all the div containers that have a class attribute of lister-item mode-advanced from website "
   ]
  },
  {
   "cell_type": "code",
   "execution_count": 80,
   "metadata": {},
   "outputs": [],
   "source": [
    "#initiate the for loop \n",
    "#this tells your scraper to iterate through \n",
    "#every div container we stored in move_div\n",
    "for container in movie_div:\n",
    "    \n",
    "    # Movies Title \n",
    "    name = container.h3.a.text   # h3 and a is attribute notation and tells the scraper to access each of those tags in 'text' format \n",
    "    titles.append(name)\n",
    "    \n",
    "    # Movies Year\n",
    "    year = container.h3.find('span', class_='lister-item-year').text   # method is use to access this particular tag\n",
    "    years.append(year)\n",
    "    \n",
    "    # Movies Duration\n",
    "    runtime = container.find('span', class_='runtime').text if container.p.find('span', class_='runtime') else '' \n",
    "    time.append(runtime)\n",
    "    \n",
    "    # Movies Rating \n",
    "    imdb = float(container.strong.text) # strong is attribute notation that tells the scraper to access that tag\n",
    "    imdb_ratings.append(imdb)\n",
    "    \n",
    "    # Metascore\n",
    "    m_score = container.find('span', class_='metascore').text if container.find('span', class_='metascore') else '-'\n",
    "    metascores.append(m_score)\n",
    "    \n",
    "    #  votes and gross earnings\n",
    "    nv = container.find_all('span', attrs={'name': 'nv'})\n",
    "    \n",
    "    vote = nv[0].text  # nv[0]--->  The scraper should grab the first data from the nv tag - the votes.\n",
    "    votes.append(vote)\n",
    "        \n",
    "    grosses = nv[1].text if len(nv) > 1 else '-'  # The nv[1] tag tells the scraper to look into the nv tag and grab the second item in the list.\n",
    "    us_gross.append(grosses) "
   ]
  },
  {
   "cell_type": "code",
   "execution_count": 81,
   "metadata": {},
   "outputs": [
    {
     "name": "stdout",
     "output_type": "stream",
     "text": [
      "['Avatar: The Way of Water', 'Avatar', 'The Banshees of Inisherin', \"Guillermo del Toro's Pinocchio\", 'Knives Out', 'Home Alone', 'A Christmas Story', 'Top Gun: Maverick', \"It's a Wonderful Life\", 'Everything Everywhere All at Once', 'Die Hard', 'The Sound of Music', 'The Batman', 'Prisoners', 'Klaus', 'All Quiet on the Western Front', 'Miracle on 34th Street', 'The Muppet Christmas Carol', 'Titanic', \"Harry Potter and the Sorcerer's Stone\", 'The Godfather', 'Pulp Fiction', 'Interstellar', 'The Shawshank Redemption', 'The Nightmare Before Christmas', 'Once Upon a Time in Hollywood', 'Good Will Hunting', 'Dune', 'Kantara', 'Spider-Man: No Way Home', 'The Wolf of Wall Street', 'RRR', 'American Psycho', 'Avengers: Endgame', 'The Dark Knight', 'Inception', 'The Lord of the Rings: The Fellowship of the Ring', 'Edward Scissorhands', 'Whiplash', 'In Bruges', 'Fight Club', 'Blade Runner 2049', 'Guardians of the Galaxy', 'Goodfellas', 'Django Unchained', 'Back to the Future', 'Inglourious Basterds', 'Rogue One: A Star Wars Story', 'The Gentlemen', 'Parasite']\n",
      "['(2022)', '(2009)', '(2022)', '(2022)', '(2019)', '(1990)', '(1983)', '(2022)', '(1946)', '(2022)', '(1988)', '(1965)', '(2022)', '(2013)', '(2019)', '(2022)', '(1947)', '(1992)', '(1997)', '(2001)', '(1972)', '(1994)', '(2014)', '(1994)', '(1993)', '(2019)', '(1997)', '(2021)', '(2022)', '(2021)', '(2013)', '(2022)', '(2000)', '(2019)', '(2008)', '(2010)', '(2001)', '(1990)', '(2014)', '(2008)', '(1999)', '(2017)', '(2014)', '(1990)', '(2012)', '(1985)', '(2009)', '(2016)', '(2019)', '(2019)']\n",
      "['192 min', '162 min', '114 min', '117 min', '130 min', '103 min', '93 min', '130 min', '130 min', '139 min', '132 min', '172 min', '176 min', '153 min', '96 min', '148 min', '96 min', '85 min', '194 min', '152 min', '175 min', '154 min', '169 min', '142 min', '76 min', '161 min', '126 min', '155 min', '148 min', '148 min', '180 min', '187 min', '102 min', '181 min', '152 min', '148 min', '178 min', '105 min', '106 min', '107 min', '139 min', '164 min', '121 min', '145 min', '165 min', '116 min', '153 min', '133 min', '113 min', '132 min']\n",
      "[7.9, 7.9, 7.9, 7.7, 7.9, 7.7, 7.9, 8.4, 8.6, 8.1, 8.2, 8.1, 7.8, 8.1, 8.1, 7.8, 7.9, 7.7, 7.9, 7.6, 9.2, 8.9, 8.6, 9.3, 7.9, 7.6, 8.3, 8.0, 8.4, 8.2, 8.2, 7.9, 7.6, 8.4, 9.0, 8.8, 8.8, 7.9, 8.5, 7.9, 8.8, 8.0, 8.0, 8.7, 8.4, 8.5, 8.3, 7.8, 7.8, 8.5]\n",
      "['67        ', '83        ', '87        ', '79        ', '82        ', '63        ', '77        ', '78        ', '89        ', '81        ', '72        ', '63        ', '72        ', '70        ', '65        ', '76        ', '88        ', '64        ', '75        ', '65        ', '100        ', '94        ', '74        ', '81        ', '82        ', '83        ', '70        ', '74        ', '-', '71        ', '75        ', '83        ', '64        ', '78        ', '84        ', '74        ', '92        ', '74        ', '89        ', '67        ', '66        ', '81        ', '76        ', '91        ', '81        ', '87        ', '69        ', '65        ', '51        ', '96        ']\n",
      "['167,963', '1,285,648', '56,507', '53,823', '658,206', '587,945', '158,661', '472,465', '462,825', '267,640', '884,608', '237,560', '645,184', '718,171', '158,231', '94,230', '50,603', '63,049', '1,176,306', '782,915', '1,856,865', '2,053,994', '1,829,410', '2,678,441', '345,013', '739,413', '972,132', '635,188', '85,003', '754,897', '1,410,670', '122,055', '623,553', '1,130,367', '2,651,816', '2,351,325', '1,875,189', '494,844', '862,414', '430,644', '2,124,038', '576,285', '1,181,122', '1,161,816', '1,554,244', '1,206,087', '1,449,969', '641,097', '341,833', '803,408']\n",
      "['-', '$760.51M', '-', '-', '$165.36M', '$285.76M', '$20.61M', '#90', '#21', '-', '$83.01M', '$163.21M', '-', '$61.00M', '#182', '-', '$2.65M', '$27.28M', '$659.33M', '$317.58M', '$134.97M', '$107.93M', '$188.02M', '$28.34M', '$75.08M', '$142.50M', '$138.43M', '$108.33M', '-', '$804.75M', '$116.90M', '-', '$15.07M', '$858.37M', '$534.86M', '$292.58M', '$315.54M', '$56.36M', '$13.09M', '$7.76M', '$37.03M', '$92.05M', '$333.18M', '$46.84M', '$162.81M', '$210.61M', '$120.54M', '$532.18M', '$36.47M', '$53.37M']\n"
     ]
    }
   ],
   "source": [
    "print(titles)\n",
    "print(years)\n",
    "print(time)\n",
    "print(imdb_ratings)\n",
    "print(metascores)\n",
    "print(votes)\n",
    "print(us_gross)"
   ]
  },
  {
   "attachments": {},
   "cell_type": "markdown",
   "metadata": {},
   "source": [
    "### Build a dataframe with pandas "
   ]
  },
  {
   "cell_type": "code",
   "execution_count": 82,
   "metadata": {},
   "outputs": [],
   "source": [
    "movies = pd.DataFrame({ 'movie': titles, 'year': years, 'timeMin': time, 'imdb': imdb_ratings, \n",
    "                       'metascore': metascores, 'votes': votes, 'us_grossMillions': us_gross })"
   ]
  },
  {
   "cell_type": "code",
   "execution_count": 83,
   "metadata": {},
   "outputs": [
    {
     "data": {
      "text/html": [
       "<div>\n",
       "<style scoped>\n",
       "    .dataframe tbody tr th:only-of-type {\n",
       "        vertical-align: middle;\n",
       "    }\n",
       "\n",
       "    .dataframe tbody tr th {\n",
       "        vertical-align: top;\n",
       "    }\n",
       "\n",
       "    .dataframe thead th {\n",
       "        text-align: right;\n",
       "    }\n",
       "</style>\n",
       "<table border=\"1\" class=\"dataframe\">\n",
       "  <thead>\n",
       "    <tr style=\"text-align: right;\">\n",
       "      <th></th>\n",
       "      <th>movie</th>\n",
       "      <th>year</th>\n",
       "      <th>timeMin</th>\n",
       "      <th>imdb</th>\n",
       "      <th>metascore</th>\n",
       "      <th>votes</th>\n",
       "      <th>us_grossMillions</th>\n",
       "    </tr>\n",
       "  </thead>\n",
       "  <tbody>\n",
       "    <tr>\n",
       "      <th>0</th>\n",
       "      <td>Avatar: The Way of Water</td>\n",
       "      <td>(2022)</td>\n",
       "      <td>192 min</td>\n",
       "      <td>7.9</td>\n",
       "      <td>67</td>\n",
       "      <td>167,963</td>\n",
       "      <td>-</td>\n",
       "    </tr>\n",
       "    <tr>\n",
       "      <th>1</th>\n",
       "      <td>Avatar</td>\n",
       "      <td>(2009)</td>\n",
       "      <td>162 min</td>\n",
       "      <td>7.9</td>\n",
       "      <td>83</td>\n",
       "      <td>1,285,648</td>\n",
       "      <td>$760.51M</td>\n",
       "    </tr>\n",
       "    <tr>\n",
       "      <th>2</th>\n",
       "      <td>The Banshees of Inisherin</td>\n",
       "      <td>(2022)</td>\n",
       "      <td>114 min</td>\n",
       "      <td>7.9</td>\n",
       "      <td>87</td>\n",
       "      <td>56,507</td>\n",
       "      <td>-</td>\n",
       "    </tr>\n",
       "    <tr>\n",
       "      <th>3</th>\n",
       "      <td>Guillermo del Toro's Pinocchio</td>\n",
       "      <td>(2022)</td>\n",
       "      <td>117 min</td>\n",
       "      <td>7.7</td>\n",
       "      <td>79</td>\n",
       "      <td>53,823</td>\n",
       "      <td>-</td>\n",
       "    </tr>\n",
       "    <tr>\n",
       "      <th>4</th>\n",
       "      <td>Knives Out</td>\n",
       "      <td>(2019)</td>\n",
       "      <td>130 min</td>\n",
       "      <td>7.9</td>\n",
       "      <td>82</td>\n",
       "      <td>658,206</td>\n",
       "      <td>$165.36M</td>\n",
       "    </tr>\n",
       "  </tbody>\n",
       "</table>\n",
       "</div>"
      ],
      "text/plain": [
       "                            movie    year  timeMin  imdb   metascore  \\\n",
       "0        Avatar: The Way of Water  (2022)  192 min   7.9  67           \n",
       "1                          Avatar  (2009)  162 min   7.9  83           \n",
       "2       The Banshees of Inisherin  (2022)  114 min   7.9  87           \n",
       "3  Guillermo del Toro's Pinocchio  (2022)  117 min   7.7  79           \n",
       "4                      Knives Out  (2019)  130 min   7.9  82           \n",
       "\n",
       "       votes us_grossMillions  \n",
       "0    167,963                -  \n",
       "1  1,285,648         $760.51M  \n",
       "2     56,507                -  \n",
       "3     53,823                -  \n",
       "4    658,206         $165.36M  "
      ]
     },
     "execution_count": 83,
     "metadata": {},
     "output_type": "execute_result"
    }
   ],
   "source": [
    "movies.head()"
   ]
  },
  {
   "cell_type": "code",
   "execution_count": 84,
   "metadata": {},
   "outputs": [
    {
     "name": "stdout",
     "output_type": "stream",
     "text": [
      "<class 'pandas.core.frame.DataFrame'>\n",
      "RangeIndex: 50 entries, 0 to 49\n",
      "Data columns (total 7 columns):\n",
      " #   Column            Non-Null Count  Dtype  \n",
      "---  ------            --------------  -----  \n",
      " 0   movie             50 non-null     object \n",
      " 1   year              50 non-null     object \n",
      " 2   timeMin           50 non-null     object \n",
      " 3   imdb              50 non-null     float64\n",
      " 4   metascore         50 non-null     object \n",
      " 5   votes             50 non-null     object \n",
      " 6   us_grossMillions  50 non-null     object \n",
      "dtypes: float64(1), object(6)\n",
      "memory usage: 2.9+ KB\n"
     ]
    }
   ],
   "source": [
    "movies.info()   "
   ]
  },
  {
   "attachments": {},
   "cell_type": "markdown",
   "metadata": {},
   "source": [
    "The year, timeMin, metascore votes, and us_grossMillions data are integer data, while us_grossMillions is a float data."
   ]
  },
  {
   "cell_type": "code",
   "execution_count": 85,
   "metadata": {},
   "outputs": [],
   "source": [
    "# The values in dataframe are in (2022) form, so to remove them we need to use the extract function & convert them to integers\n",
    "movies['year'] = movies['year'].str.extract('(\\d+)').astype(int)"
   ]
  },
  {
   "cell_type": "code",
   "execution_count": 86,
   "metadata": {},
   "outputs": [],
   "source": [
    "movies['timeMin'] = movies['timeMin'].str.extract('(\\d+)').astype(int)"
   ]
  },
  {
   "cell_type": "code",
   "execution_count": 87,
   "metadata": {},
   "outputs": [],
   "source": [
    "movies['metascore'] = movies['metascore'].str.replace('-', '0').astype(int)"
   ]
  },
  {
   "cell_type": "code",
   "execution_count": 88,
   "metadata": {},
   "outputs": [],
   "source": [
    "movies['votes'] = movies['votes'].str.replace(',', '').astype(int)"
   ]
  },
  {
   "cell_type": "code",
   "execution_count": 89,
   "metadata": {},
   "outputs": [],
   "source": [
    "movies['us_grossMillions'] = movies['us_grossMillions'].map(lambda x: x.lstrip('$').rstrip('M'))\n",
    "# Remove $ symbol and M from the string  \n",
    "movies['us_grossMillions'] = pd.to_numeric(movies['us_grossMillions'], errors='coerce')"
   ]
  },
  {
   "cell_type": "code",
   "execution_count": 90,
   "metadata": {},
   "outputs": [
    {
     "data": {
      "text/html": [
       "<div>\n",
       "<style scoped>\n",
       "    .dataframe tbody tr th:only-of-type {\n",
       "        vertical-align: middle;\n",
       "    }\n",
       "\n",
       "    .dataframe tbody tr th {\n",
       "        vertical-align: top;\n",
       "    }\n",
       "\n",
       "    .dataframe thead th {\n",
       "        text-align: right;\n",
       "    }\n",
       "</style>\n",
       "<table border=\"1\" class=\"dataframe\">\n",
       "  <thead>\n",
       "    <tr style=\"text-align: right;\">\n",
       "      <th></th>\n",
       "      <th>movie</th>\n",
       "      <th>year</th>\n",
       "      <th>timeMin</th>\n",
       "      <th>imdb</th>\n",
       "      <th>metascore</th>\n",
       "      <th>votes</th>\n",
       "      <th>us_grossMillions</th>\n",
       "    </tr>\n",
       "  </thead>\n",
       "  <tbody>\n",
       "    <tr>\n",
       "      <th>0</th>\n",
       "      <td>Avatar: The Way of Water</td>\n",
       "      <td>2022</td>\n",
       "      <td>192</td>\n",
       "      <td>7.9</td>\n",
       "      <td>67</td>\n",
       "      <td>167963</td>\n",
       "      <td>NaN</td>\n",
       "    </tr>\n",
       "    <tr>\n",
       "      <th>1</th>\n",
       "      <td>Avatar</td>\n",
       "      <td>2009</td>\n",
       "      <td>162</td>\n",
       "      <td>7.9</td>\n",
       "      <td>83</td>\n",
       "      <td>1285648</td>\n",
       "      <td>760.51</td>\n",
       "    </tr>\n",
       "    <tr>\n",
       "      <th>2</th>\n",
       "      <td>The Banshees of Inisherin</td>\n",
       "      <td>2022</td>\n",
       "      <td>114</td>\n",
       "      <td>7.9</td>\n",
       "      <td>87</td>\n",
       "      <td>56507</td>\n",
       "      <td>NaN</td>\n",
       "    </tr>\n",
       "    <tr>\n",
       "      <th>3</th>\n",
       "      <td>Guillermo del Toro's Pinocchio</td>\n",
       "      <td>2022</td>\n",
       "      <td>117</td>\n",
       "      <td>7.7</td>\n",
       "      <td>79</td>\n",
       "      <td>53823</td>\n",
       "      <td>NaN</td>\n",
       "    </tr>\n",
       "    <tr>\n",
       "      <th>4</th>\n",
       "      <td>Knives Out</td>\n",
       "      <td>2019</td>\n",
       "      <td>130</td>\n",
       "      <td>7.9</td>\n",
       "      <td>82</td>\n",
       "      <td>658206</td>\n",
       "      <td>165.36</td>\n",
       "    </tr>\n",
       "    <tr>\n",
       "      <th>5</th>\n",
       "      <td>Home Alone</td>\n",
       "      <td>1990</td>\n",
       "      <td>103</td>\n",
       "      <td>7.7</td>\n",
       "      <td>63</td>\n",
       "      <td>587945</td>\n",
       "      <td>285.76</td>\n",
       "    </tr>\n",
       "    <tr>\n",
       "      <th>6</th>\n",
       "      <td>A Christmas Story</td>\n",
       "      <td>1983</td>\n",
       "      <td>93</td>\n",
       "      <td>7.9</td>\n",
       "      <td>77</td>\n",
       "      <td>158661</td>\n",
       "      <td>20.61</td>\n",
       "    </tr>\n",
       "    <tr>\n",
       "      <th>7</th>\n",
       "      <td>Top Gun: Maverick</td>\n",
       "      <td>2022</td>\n",
       "      <td>130</td>\n",
       "      <td>8.4</td>\n",
       "      <td>78</td>\n",
       "      <td>472465</td>\n",
       "      <td>NaN</td>\n",
       "    </tr>\n",
       "    <tr>\n",
       "      <th>8</th>\n",
       "      <td>It's a Wonderful Life</td>\n",
       "      <td>1946</td>\n",
       "      <td>130</td>\n",
       "      <td>8.6</td>\n",
       "      <td>89</td>\n",
       "      <td>462825</td>\n",
       "      <td>NaN</td>\n",
       "    </tr>\n",
       "    <tr>\n",
       "      <th>9</th>\n",
       "      <td>Everything Everywhere All at Once</td>\n",
       "      <td>2022</td>\n",
       "      <td>139</td>\n",
       "      <td>8.1</td>\n",
       "      <td>81</td>\n",
       "      <td>267640</td>\n",
       "      <td>NaN</td>\n",
       "    </tr>\n",
       "  </tbody>\n",
       "</table>\n",
       "</div>"
      ],
      "text/plain": [
       "                               movie  year  timeMin  imdb  metascore    votes  \\\n",
       "0           Avatar: The Way of Water  2022      192   7.9         67   167963   \n",
       "1                             Avatar  2009      162   7.9         83  1285648   \n",
       "2          The Banshees of Inisherin  2022      114   7.9         87    56507   \n",
       "3     Guillermo del Toro's Pinocchio  2022      117   7.7         79    53823   \n",
       "4                         Knives Out  2019      130   7.9         82   658206   \n",
       "5                         Home Alone  1990      103   7.7         63   587945   \n",
       "6                  A Christmas Story  1983       93   7.9         77   158661   \n",
       "7                  Top Gun: Maverick  2022      130   8.4         78   472465   \n",
       "8              It's a Wonderful Life  1946      130   8.6         89   462825   \n",
       "9  Everything Everywhere All at Once  2022      139   8.1         81   267640   \n",
       "\n",
       "   us_grossMillions  \n",
       "0               NaN  \n",
       "1            760.51  \n",
       "2               NaN  \n",
       "3               NaN  \n",
       "4            165.36  \n",
       "5            285.76  \n",
       "6             20.61  \n",
       "7               NaN  \n",
       "8               NaN  \n",
       "9               NaN  "
      ]
     },
     "execution_count": 90,
     "metadata": {},
     "output_type": "execute_result"
    }
   ],
   "source": [
    "movies.head(10)"
   ]
  },
  {
   "cell_type": "code",
   "execution_count": 91,
   "metadata": {},
   "outputs": [
    {
     "name": "stdout",
     "output_type": "stream",
     "text": [
      "<class 'pandas.core.frame.DataFrame'>\n",
      "RangeIndex: 50 entries, 0 to 49\n",
      "Data columns (total 7 columns):\n",
      " #   Column            Non-Null Count  Dtype  \n",
      "---  ------            --------------  -----  \n",
      " 0   movie             50 non-null     object \n",
      " 1   year              50 non-null     int32  \n",
      " 2   timeMin           50 non-null     int32  \n",
      " 3   imdb              50 non-null     float64\n",
      " 4   metascore         50 non-null     int32  \n",
      " 5   votes             50 non-null     int32  \n",
      " 6   us_grossMillions  39 non-null     float64\n",
      "dtypes: float64(2), int32(4), object(1)\n",
      "memory usage: 2.1+ KB\n"
     ]
    }
   ],
   "source": [
    "movies.info()"
   ]
  },
  {
   "attachments": {},
   "cell_type": "markdown",
   "metadata": {},
   "source": [
    "### Saving to CSV file"
   ]
  },
  {
   "cell_type": "code",
   "execution_count": 92,
   "metadata": {},
   "outputs": [],
   "source": [
    "movies.to_csv('movies.csv')"
   ]
  },
  {
   "attachments": {},
   "cell_type": "markdown",
   "metadata": {},
   "source": [
    "### Summary"
   ]
  },
  {
   "attachments": {},
   "cell_type": "markdown",
   "metadata": {},
   "source": [
    "- Inspected our HTML for the data we need\n",
    "- Wrote code to extract the data\n",
    "- Put our code in a loop to grab all the data from each movie\n",
    "- Built a DataFrame with pandas\n",
    "- Cleaned our data in pandas\n",
    "- Handled type conversion to make our data consistent \n",
    "- Saved your scraped data to a CSV"
   ]
  }
 ],
 "metadata": {
  "kernelspec": {
   "display_name": "Python 3",
   "language": "python",
   "name": "python3"
  },
  "language_info": {
   "codemirror_mode": {
    "name": "ipython",
    "version": 3
   },
   "file_extension": ".py",
   "mimetype": "text/x-python",
   "name": "python",
   "nbconvert_exporter": "python",
   "pygments_lexer": "ipython3",
   "version": "3.10.7"
  },
  "orig_nbformat": 4,
  "vscode": {
   "interpreter": {
    "hash": "8b9615e5c14d97b4c7011abf58491716cd4b9f963d9458d89a63626448c37b22"
   }
  }
 },
 "nbformat": 4,
 "nbformat_minor": 2
}
